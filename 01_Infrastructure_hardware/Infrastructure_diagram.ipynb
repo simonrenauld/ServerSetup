{
 "cells": [
  {
   "cell_type": "code",
   "execution_count": 2,
   "metadata": {},
   "outputs": [
    {
     "ename": "ModuleNotFoundError",
     "evalue": "No module named 'graphviz'",
     "output_type": "error",
     "traceback": [
      "\u001b[1;31m---------------------------------------------------------------------------\u001b[0m",
      "\u001b[1;31mModuleNotFoundError\u001b[0m                       Traceback (most recent call last)",
      "Cell \u001b[1;32mIn[2], line 1\u001b[0m\n\u001b[1;32m----> 1\u001b[0m \u001b[38;5;28;01mfrom\u001b[39;00m \u001b[38;5;21;01mgraphviz\u001b[39;00m \u001b[38;5;28;01mimport\u001b[39;00m Digraph\n\u001b[0;32m      3\u001b[0m \u001b[38;5;66;03m# Create a new directed graph\u001b[39;00m\n\u001b[0;32m      4\u001b[0m uml_diagram \u001b[38;5;241m=\u001b[39m Digraph(\u001b[38;5;124m\"\u001b[39m\u001b[38;5;124mInfrastructure UML\u001b[39m\u001b[38;5;124m\"\u001b[39m, filename\u001b[38;5;241m=\u001b[39m\u001b[38;5;124m\"\u001b[39m\u001b[38;5;124minfrastructure_uml_diagram\u001b[39m\u001b[38;5;124m\"\u001b[39m, \u001b[38;5;28mformat\u001b[39m\u001b[38;5;241m=\u001b[39m\u001b[38;5;124m\"\u001b[39m\u001b[38;5;124mpng\u001b[39m\u001b[38;5;124m\"\u001b[39m)\n",
      "\u001b[1;31mModuleNotFoundError\u001b[0m: No module named 'graphviz'"
     ]
    }
   ],
   "source": [
    "from graphviz import Digraph\n",
    "\n",
    "# Create a new directed graph\n",
    "uml_diagram = Digraph(\"Infrastructure UML\", filename=\"infrastructure_uml_diagram\", format=\"png\")\n",
    "uml_diagram.attr(rankdir='LR', size='10,8')\n",
    "\n",
    "# Add components\n",
    "uml_diagram.node(\"Server\", \"Main Server\")\n",
    "uml_diagram.node(\"OS\", \"Operating Systems\\n(Linux, Windows Server)\")\n",
    "\n",
    "uml_diagram.node(\"WebServers\", \"Web Servers\\n(Nginx, Apache)\")\n",
    "uml_diagram.node(\"Databases\", \"Databases\\n(MySQL, PostgreSQL, MongoDB)\")\n",
    "uml_diagram.node(\"Containers\", \"Containers\\n(Docker, Kubernetes)\")\n",
    "\n",
    "uml_diagram.node(\"DataScience\", \"Data Science Tools\\n(Jupyter, RStudio)\")\n",
    "uml_diagram.node(\"DataEngineering\", \"Data Engineering Tools\\n(Hadoop, Spark)\")\n",
    "\n",
    "uml_diagram.node(\"AIFrameworks\", \"AI/ML Frameworks\\n(LLaMA, TensorFlow, PyTorch)\")\n",
    "uml_diagram.node(\"Governance\", \"Data Governance\\n(Cataloging, Quality, Compliance)\")\n",
    "\n",
    "uml_diagram.node(\"Backup\", \"Backup System\\n(Nextcloud)\")\n",
    "uml_diagram.node(\"MediaServer\", \"Media Server\\n(Jellyfin)\")\n",
    "\n",
    "uml_diagram.node(\"AIforBusiness\", \"AI for Business\\n(Chatbot, CRM Integration, Proposal Generation)\")\n",
    "\n",
    "# Define relationships\n",
    "uml_diagram.edge(\"Server\", \"OS\")\n",
    "uml_diagram.edge(\"OS\", \"WebServers\")\n",
    "uml_diagram.edge(\"OS\", \"Databases\")\n",
    "uml_diagram.edge(\"OS\", \"Containers\")\n",
    "uml_diagram.edge(\"OS\", \"DataScience\")\n",
    "uml_diagram.edge(\"OS\", \"DataEngineering\")\n",
    "uml_diagram.edge(\"OS\", \"AIFrameworks\")\n",
    "uml_diagram.edge(\"OS\", \"Governance\")\n",
    "uml_diagram.edge(\"OS\", \"Backup\")\n",
    "uml_diagram.edge(\"OS\", \"MediaServer\")\n",
    "uml_diagram.edge(\"OS\", \"AIforBusiness\")\n",
    "\n",
    "uml_diagram.view()"
   ]
  },
  {
   "cell_type": "code",
   "execution_count": null,
   "metadata": {},
   "outputs": [],
   "source": []
  }
 ],
 "metadata": {
  "kernelspec": {
   "display_name": "base",
   "language": "python",
   "name": "python3"
  },
  "language_info": {
   "codemirror_mode": {
    "name": "ipython",
    "version": 3
   },
   "file_extension": ".py",
   "mimetype": "text/x-python",
   "name": "python",
   "nbconvert_exporter": "python",
   "pygments_lexer": "ipython3",
   "version": "3.11.7"
  }
 },
 "nbformat": 4,
 "nbformat_minor": 2
}
